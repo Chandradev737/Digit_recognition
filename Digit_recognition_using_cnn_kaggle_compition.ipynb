{
 "cells": [
  {
   "cell_type": "code",
   "execution_count": null,
   "metadata": {},
   "outputs": [],
   "source": [
    "import numpy as np # linear algebra\n",
    "import pandas as pd # data processing, CSV file I/O (e.g. pd.read_csv)\n",
    "import matplotlib.pyplot as plt #to plot the graph\n",
    "\n",
    "# model, layers, optimizer\n",
    "from keras.models import Sequential\n",
    "from keras.layers import Dense\n",
    "from keras.layers import Dropout\n",
    "from keras.layers import Flatten\n",
    "from keras import optimizers\n",
    "from keras import regularizers\n",
    "from keras.layers.convolutional import Convolution2D\n",
    "from keras.layers.convolutional import MaxPooling2D\n",
    "from keras.utils.np_utils import to_categorical\n",
    "\n",
    "# scikit-learn library \n",
    "from sklearn.preprocessing import LabelEncoder,OneHotEncoder\n",
    "from sklearn.model_selection import train_test_split\n",
    "\n",
    "# for session\n",
    "from keras import backend as K"
   ]
  },
  {
   "cell_type": "code",
   "execution_count": null,
   "metadata": {},
   "outputs": [],
   "source": [
    "# loading the given dataset of compition\n",
    "train = pd.read_csv(\"Digit_reco/train.csv\").values.astype('float32')\n",
    "test  = pd.read_csv(\"Digit_reco/test.csv\").values.astype('float32')"
   ]
  },
  {
   "cell_type": "code",
   "execution_count": null,
   "metadata": {},
   "outputs": [],
   "source": [
    "# spliting the training data-set  \n",
    "x_train, x_test, y_train, y_test= train_test_split(train[:,1:],train[:,0],test_size=0.2)"
   ]
  },
  {
   "cell_type": "code",
   "execution_count": null,
   "metadata": {},
   "outputs": [],
   "source": [
    "# reshaping the data into required dimension\n",
    "x_train = x_train.reshape(-1,28,28,1)\n",
    "x_test = x_test.reshape(-1,28,28,1)\n",
    "\n",
    "train_labels = to_categorical(y_train, 10)\n",
    "test_labels = to_categorical(y_test, 10)"
   ]
  },
  {
   "cell_type": "code",
   "execution_count": null,
   "metadata": {},
   "outputs": [],
   "source": [
    "# to display the sample \n",
    "def display_sample(num):\n",
    "    #Print the one-hot array of this sample's label \n",
    "    print(train_labels[num])  \n",
    "    #Print the label converted back to a number\n",
    "    label = train_labels[num].argmax(axis=0)\n",
    "    #Reshape the 768 values to a 28x28 image\n",
    "    image = x_train[num].reshape([28,28])\n",
    "    plt.title('Sample: %d  Label: %d' % (num, label))\n",
    "    plt.imshow(image, cmap=plt.get_cmap('gray_r'))\n",
    "    plt.show()\n",
    "    \n",
    "display_sample(100)"
   ]
  },
  {
   "cell_type": "code",
   "execution_count": null,
   "metadata": {},
   "outputs": [],
   "source": [
    "# model defination\n",
    "\n",
    "model = Sequential()\n",
    "\n",
    "# 3x3 and 6x6 kernels\n",
    "model.add(Convolution2D(filters=20, kernel_size=(6,6), kernel_regularizer=regularizers.l2(0.04), strides=(1,1), padding='valid', activation='relu', data_format='channels_last', input_shape=(28,28,1)))\n",
    "model.add(Convolution2D(filters=20, kernel_size=(3,3), kernel_regularizer=regularizers.l2(0.04), strides=(1,1), padding='valid', activation='relu'))\n",
    "# Reduce by taking the max of each 4x4 block\n",
    "model.add(MaxPooling2D(pool_size=(4,4), strides=(1,1)))\n",
    "# Dropout to avoid overfitting\n",
    "model.add(Dropout(rate=0.05,seed=3))\n",
    "\n",
    "model.add(Convolution2D(filters=10, kernel_size=(6,6), kernel_regularizer=regularizers.l2(0.04), strides=(1,1), padding='valid', activation='relu'))\n",
    "model.add(Convolution2D(filters=10, kernel_size=(3,3), kernel_regularizer=regularizers.l2(0.04), strides=(1,1), padding='valid', activation='relu'))\n",
    "model.add(MaxPooling2D(pool_size=(4,4), strides=(1,1)))\n",
    "model.add(Dropout(rate=0.05,seed=8))\n",
    "\n",
    "# Flatten the results to one dimension for passing into our final layer\n",
    "model.add(Flatten())\n",
    "\n",
    "model.add(Dense(units=30, activation='tanh', kernel_regularizer=regularizers.l2(0.04)))\n",
    "# Final categorization from 0-9 with softmax\n",
    "model.add(Dense(units=10, activation='softmax', kernel_regularizer=regularizers.l2(0.04)))\n",
    "\n",
    "# reduce the learning rate if training accuracy suddenly drops and keeps decreasing\n",
    "sgd = optimizers.SGD(lr=0.003) # lr by default is 0.01 for SGD\n"
   ]
  },
  {
   "cell_type": "code",
   "execution_count": null,
   "metadata": {},
   "outputs": [],
   "source": [
    "# model summary\n",
    "model.summary()"
   ]
  },
  {
   "cell_type": "code",
   "execution_count": null,
   "metadata": {},
   "outputs": [],
   "source": [
    "from keras import metrics"
   ]
  },
  {
   "cell_type": "code",
   "execution_count": null,
   "metadata": {},
   "outputs": [],
   "source": [
    "# model compilation\n",
    "model.compile(loss='categorical_crossentropy', optimizer=sgd, metrics=[metrics.categorical_accuracy])"
   ]
  },
  {
   "cell_type": "code",
   "execution_count": null,
   "metadata": {},
   "outputs": [],
   "source": [
    "# model fitting\n",
    "history = model.fit(x_train, train_labels,\n",
    "                    batch_size=50,\n",
    "                    epochs=5,\n",
    "                    verbose=2,\n",
    "                    validation_split=0.1)"
   ]
  },
  {
   "cell_type": "code",
   "execution_count": null,
   "metadata": {},
   "outputs": [],
   "source": [
    "# prediction on given test data-set\n",
    "given_test = test\n",
    "given_test = given_test.reshape(-1,28,28,1)/255.\n",
    "predict = model.predict_classes(given_test)"
   ]
  },
  {
   "cell_type": "code",
   "execution_count": null,
   "metadata": {},
   "outputs": [],
   "source": [
    "# saving the model inti Json file\n",
    "model_json = model.to_json()\n",
    "open('digit_recognizer_model_using_cnn_KG.json','w').write(model_json)\n",
    "model.save_weights('digit_recognizer_weights_model_usin_cnn_KG.h5')"
   ]
  },
  {
   "cell_type": "code",
   "execution_count": null,
   "metadata": {},
   "outputs": [],
   "source": [
    "#saving the output\n",
    "def write_predict(predict,name):\n",
    "    pd.DataFrame({'ImageId':list(range(1,len(predict)+1)),'Label':predict}).to_csv(name,index=False,header=True)\n",
    "    \n",
    "write_predict(predict,'keras_digit_recognizer_by_cnn_output_KG.csv')"
   ]
  },
  {
   "cell_type": "code",
   "execution_count": null,
   "metadata": {},
   "outputs": [],
   "source": []
  },
  {
   "cell_type": "markdown",
   "metadata": {},
   "source": [
    "# Write-up"
   ]
  },
  {
   "cell_type": "code",
   "execution_count": null,
   "metadata": {},
   "outputs": [],
   "source": [
    "#next file "
   ]
  }
 ],
 "metadata": {
  "kernelspec": {
   "display_name": "Python 3",
   "language": "python",
   "name": "python3"
  },
  "language_info": {
   "codemirror_mode": {
    "name": "ipython",
    "version": 3
   },
   "file_extension": ".py",
   "mimetype": "text/x-python",
   "name": "python",
   "nbconvert_exporter": "python",
   "pygments_lexer": "ipython3",
   "version": "3.6.4"
  }
 },
 "nbformat": 4,
 "nbformat_minor": 2
}
